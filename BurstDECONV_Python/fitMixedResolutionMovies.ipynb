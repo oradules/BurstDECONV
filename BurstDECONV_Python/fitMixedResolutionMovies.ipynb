{
 "cells": [
  {
   "cell_type": "code",
   "execution_count": null,
   "metadata": {
    "scrolled": true
   },
   "outputs": [
    {
     "name": "stdout",
     "output_type": "stream",
     "text": [
      "result_nx2HIVlo.npz\n",
      "Tactive =  5877180.0 nnn =  0\n",
      "estp1  0.045808817381663265\n",
      "Fitting sum of two exponentials...\n"
     ]
    },
    {
     "name": "stderr",
     "output_type": "stream",
     "text": [
      "/media/rachel/KAT EBL/2022/Manuscript/script_fitLong/fitUtilitiesMixed/fitSumOf2ExponentialsMain.py:44: RuntimeWarning: overflow encountered in exp\n",
      "  np.log((k[2]*np.exp(k[0]*xl)+ (1-k[2])*np.exp(k[1]*xl))/elong)/sNL*fact1,\n",
      "/media/rachel/KAT EBL/2022/Manuscript/script_fitLong/fitUtilitiesMixed/fitSumOf2ExponentialsMain.py:46: RuntimeWarning: overflow encountered in exp\n",
      "  (k[2]*np.exp(k[0]*xl)+ (1-k[2])*np.exp(k[1]*xl)-elong)/sNL*fact2)) ### mixed\n",
      "/media/rachel/KAT EBL/2022/Manuscript/script_fitLong/fitUtilitiesMixed/fitSumOf2ExponentialsMain.py:43: RuntimeWarning: invalid value encountered in log\n",
      "  return np.concatenate((np.log((k[2]*np.exp(k[0]*xsg)+(1-k[2])*np.exp(k[1]*xsg))/eshort)/sNS*fact1,\n",
      "/media/rachel/KAT EBL/2022/Manuscript/script_fitLong/fitUtilitiesMixed/fitSumOf2ExponentialsMain.py:44: RuntimeWarning: invalid value encountered in log\n",
      "  np.log((k[2]*np.exp(k[0]*xl)+ (1-k[2])*np.exp(k[1]*xl))/elong)/sNL*fact1,\n",
      "/media/rachel/KAT EBL/2022/Manuscript/script_fitLong/fitUtilitiesMixed/fitSumOf2ExponentialsMain.py:44: RuntimeWarning: divide by zero encountered in log\n",
      "  np.log((k[2]*np.exp(k[0]*xl)+ (1-k[2])*np.exp(k[1]*xl))/elong)/sNL*fact1,\n",
      "/media/rachel/KAT EBL/2022/Manuscript/script_fitLong/fitUtilitiesMixed/fitSumOf2ExponentialsMain.py:44: RuntimeWarning: overflow encountered in true_divide\n",
      "  np.log((k[2]*np.exp(k[0]*xl)+ (1-k[2])*np.exp(k[1]*xl))/elong)/sNL*fact1,\n",
      "/media/rachel/KAT EBL/2022/Manuscript/script_fitLong/fitUtilitiesMixed/fitSumOf2ExponentialsMain.py:43: RuntimeWarning: overflow encountered in exp\n",
      "  return np.concatenate((np.log((k[2]*np.exp(k[0]*xsg)+(1-k[2])*np.exp(k[1]*xsg))/eshort)/sNS*fact1,\n",
      "/media/rachel/KAT EBL/2022/Manuscript/script_fitLong/fitUtilitiesMixed/fitSumOf2ExponentialsMain.py:45: RuntimeWarning: overflow encountered in exp\n",
      "  (k[2]*np.exp(k[0]*xsg)+(1-k[2])*np.exp(k[1]*xsg)-eshort)/sNS*fact2,\n"
     ]
    }
   ],
   "source": [
    "from fit import *\n",
    "\n",
    "fit(path='../resultDechivlo/', parameter='../hivParameters.npz', combined=0, visualize=1, outputpath='./')"
   ]
  },
  {
   "cell_type": "code",
   "execution_count": null,
   "metadata": {},
   "outputs": [],
   "source": []
  },
  {
   "cell_type": "code",
   "execution_count": null,
   "metadata": {},
   "outputs": [],
   "source": []
  }
 ],
 "metadata": {
  "kernelspec": {
   "display_name": "Python 3 (ipykernel)",
   "language": "python",
   "name": "python3"
  },
  "language_info": {
   "codemirror_mode": {
    "name": "ipython",
    "version": 3
   },
   "file_extension": ".py",
   "mimetype": "text/x-python",
   "name": "python",
   "nbconvert_exporter": "python",
   "pygments_lexer": "ipython3",
   "version": "3.9.12"
  }
 },
 "nbformat": 4,
 "nbformat_minor": 4
}
